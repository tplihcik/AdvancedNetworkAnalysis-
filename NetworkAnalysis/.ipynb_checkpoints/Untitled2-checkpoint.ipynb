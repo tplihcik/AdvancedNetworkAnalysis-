{
 "cells": [
  {
   "cell_type": "code",
   "execution_count": 4,
   "metadata": {},
   "outputs": [
    {
     "ename": "SyntaxError",
     "evalue": "invalid syntax (<ipython-input-4-b4a7311b9ab5>, line 24)",
     "output_type": "error",
     "traceback": [
      "\u001b[0;36m  File \u001b[0;32m\"<ipython-input-4-b4a7311b9ab5>\"\u001b[0;36m, line \u001b[0;32m24\u001b[0m\n\u001b[0;31m    print(nx.(G))\u001b[0m\n\u001b[0m             ^\u001b[0m\n\u001b[0;31mSyntaxError\u001b[0m\u001b[0;31m:\u001b[0m invalid syntax\n"
     ]
    }
   ],
   "source": [
    "import networkx as nx\n",
    "\n",
    "import matplotlib.pyplot as plt\n",
    "\n",
    "\n",
    "#Generate an Erdos-Renyi graph\n",
    "G = nx.erdos_renyi_graph(100, 0.001, seed=None, directed=False)\n",
    "\n",
    "#use a ring layout to spread nodes for drawing\n",
    "pos = nx.circular_layout(G)\n",
    "\n",
    "plt.figure(figsize=(12,8))\n",
    "nx.draw_networkx(G, pos=pos, node_color=\"green\", node_size=640)\n",
    "limits=plt.axis('off')\n",
    "plt.show()\n",
    "\n",
    "print(\"Clustering Coefficient:\")\n",
    "print(nx.average_clustering(G))\n",
    "\n",
    "print(\"Transitivity:\")\n",
    "print(nx.transitivity(G))\n",
    "\n",
    "print(\"<k>:\")\n",
    "print(nx.average_degree(G))\n",
    "\n",
    "print(\"Density:\")\n",
    "print(nx.density(G))\n",
    "\n",
    "print(\"Diameter:\")\n",
    "print(nx.diameter(G))"
   ]
  },
  {
   "cell_type": "code",
   "execution_count": null,
   "metadata": {},
   "outputs": [],
   "source": []
  }
 ],
 "metadata": {
  "kernelspec": {
   "display_name": "Python 3",
   "language": "python",
   "name": "python3"
  },
  "language_info": {
   "codemirror_mode": {
    "name": "ipython",
    "version": 3
   },
   "file_extension": ".py",
   "mimetype": "text/x-python",
   "name": "python",
   "nbconvert_exporter": "python",
   "pygments_lexer": "ipython3",
   "version": "3.8.1"
  }
 },
 "nbformat": 4,
 "nbformat_minor": 4
}
