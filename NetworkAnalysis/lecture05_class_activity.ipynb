{
 "cells": [
  {
   "cell_type": "markdown",
   "metadata": {},
   "source": [
    "# Set up the graph formats"
   ]
  },
  {
   "cell_type": "code",
   "execution_count": 12,
   "metadata": {},
   "outputs": [],
   "source": [
    "import pylab\n",
    "pylab.rcParams['xtick.major.pad']='8'\n",
    "pylab.rcParams['ytick.major.pad']='8'\n",
    "#pylab.rcParams['font.sans-serif']='Arial'\n",
    "\n",
    "from matplotlib import rc\n",
    "rc('font', family='sans-serif')\n",
    "rc('font', size=10.0)\n",
    "rc('text', usetex=False)\n",
    "\n",
    "\n",
    "from matplotlib.font_manager import FontProperties\n",
    "\n",
    "panel_label_font = FontProperties().copy()\n",
    "panel_label_font.set_weight(\"bold\")\n",
    "panel_label_font.set_size(12.0)\n",
    "panel_label_font.set_family(\"sans-serif\")"
   ]
  },
  {
   "cell_type": "markdown",
   "metadata": {},
   "source": [
    "# Set up the data sets"
   ]
  },
  {
   "cell_type": "code",
   "execution_count": 3,
   "metadata": {},
   "outputs": [],
   "source": [
    "from os import listdir\n",
    "files = listdir('.')\n",
    "if 'blackouts.txt' not in files:\n",
    "    import urllib\n",
    "    urllib.urlretrieve('https://raw.github.com/jeffalstott/powerlaw/master/manuscript/blackouts.txt', 'blackouts.txt')\n",
    "if 'words.txt' not in files:\n",
    "    import urllib\n",
    "    urllib.urlretrieve('https://raw.github.com/jeffalstott/powerlaw/master/manuscript/words.txt', 'words.txt')\n",
    "if 'worm.txt' not in files:\n",
    "    import urllib\n",
    "    urllib.urlretrieve('https://raw.github.com/jeffalstott/powerlaw/master/manuscript/worm.txt', 'worm.txt')"
   ]
  },
  {
   "cell_type": "code",
   "execution_count": 4,
   "metadata": {},
   "outputs": [],
   "source": [
    "from numpy import genfromtxt\n",
    "blackouts = genfromtxt('blackouts.txt')#/10**3\n",
    "words = genfromtxt('words.txt')\n",
    "worm = genfromtxt('worm.txt')\n",
    "worm = worm[worm>0]"
   ]
  },
  {
   "cell_type": "markdown",
   "metadata": {},
   "source": [
    "# Compare Log-binning to Linear-binning"
   ]
  },
  {
   "cell_type": "code",
   "execution_count": 5,
   "metadata": {},
   "outputs": [
    {
     "data": {
      "image/png": "[encoded data removed]",
      "text/plain": [
       "<Figure size 432x288 with 1 Axes>"
      ]
     },
     "metadata": {
      "needs_background": "light"
     },
     "output_type": "display_data"
    }
   ],
   "source": [
    "import powerlaw\n",
    "\n",
    "data = words\n",
    "####\n",
    "figPDF = powerlaw.plot_pdf(data, color='b')\n",
    "powerlaw.plot_pdf(data, linear_bins=True, color='r', ax=figPDF)\n",
    "####\n",
    "figPDF.set_ylabel(\"p(k)\")\n",
    "figPDF.set_xlabel(r\"k\")\n",
    "figname = 'FigPDF'\n",
    "\n",
    "#savefig(figname+'.tiff', bbox_inches='tight', dpi=300)"
   ]
  },
  {
   "cell_type": "markdown",
   "metadata": {},
   "source": [
    "# Calculate the exponent"
   ]
  },
  {
   "cell_type": "code",
   "execution_count": 17,
   "metadata": {},
   "outputs": [
    {
     "name": "stdout",
     "output_type": "stream",
     "text": [
      "2.023004831109283\n"
     ]
    },
    {
     "name": "stderr",
     "output_type": "stream",
     "text": [
      "Calculating best minimal value for power law fit\n",
      "/Users/mv668/Dropbox (NAU)/Teaching/Network Science/Spring 2020/CS499/labs/cs499_desktop/lib/python3.7/site-packages/powerlaw.py:700: RuntimeWarning: invalid value encountered in true_divide\n",
      "  (Theoretical_CDF * (1 - Theoretical_CDF))\n"
     ]
    }
   ],
   "source": [
    "data = words\n",
    "####\n",
    "import powerlaw\n",
    "fit = powerlaw.Fit(data)\n",
    "fit.power_law.alpha\n",
    "fit.power_law.sigma\n",
    "print(fit.power_law.alpha)"
   ]
  },
  {
   "cell_type": "code",
   "execution_count": null,
   "metadata": {},
   "outputs": [],
   "source": []
  }
 ],
 "metadata": {
  "kernelspec": {
   "display_name": "Python 3",
   "language": "python",
   "name": "python3"
  },
  "language_info": {
   "codemirror_mode": {
    "name": "ipython",
    "version": 3
   },
   "file_extension": ".py",
   "mimetype": "text/x-python",
   "name": "python",
   "nbconvert_exporter": "python",
   "pygments_lexer": "ipython3",
   "version": "3.8.1"
  }
 },
 "nbformat": 4,
 "nbformat_minor": 4
}
