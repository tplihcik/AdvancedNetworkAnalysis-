{
 "cells": [
  {
   "cell_type": "code",
   "execution_count": 2,
   "metadata": {},
   "outputs": [
    {
     "ename": "NameError",
     "evalue": "name 'plt' is not defined",
     "output_type": "error",
     "traceback": [
      "\u001b[0;31m---------------------------------------------------------------------------\u001b[0m",
      "\u001b[0;31mNameError\u001b[0m                                 Traceback (most recent call last)",
      "\u001b[0;32m<ipython-input-2-120c499cf357>\u001b[0m in \u001b[0;36m<module>\u001b[0;34m\u001b[0m\n\u001b[1;32m     13\u001b[0m \u001b[0myvals\u001b[0m\u001b[0;34m=\u001b[0m\u001b[0mnp\u001b[0m\u001b[0;34m.\u001b[0m\u001b[0marange\u001b[0m\u001b[0;34m(\u001b[0m\u001b[0mlen\u001b[0m\u001b[0;34m(\u001b[0m\u001b[0msorted_ci\u001b[0m\u001b[0;34m)\u001b[0m\u001b[0;34m)\u001b[0m\u001b[0;34m/\u001b[0m\u001b[0mfloat\u001b[0m\u001b[0;34m(\u001b[0m\u001b[0mlen\u001b[0m\u001b[0;34m(\u001b[0m\u001b[0msorted_ci\u001b[0m\u001b[0;34m)\u001b[0m\u001b[0;34m-\u001b[0m\u001b[0;36m1\u001b[0m\u001b[0;34m)\u001b[0m\u001b[0;34m\u001b[0m\u001b[0;34m\u001b[0m\u001b[0m\n\u001b[1;32m     14\u001b[0m \u001b[0;31m# Plot the data\u001b[0m\u001b[0;34m\u001b[0m\u001b[0;34m\u001b[0m\u001b[0;34m\u001b[0m\u001b[0m\n\u001b[0;32m---> 15\u001b[0;31m \u001b[0mplt\u001b[0m\u001b[0;34m.\u001b[0m\u001b[0mplot\u001b[0m\u001b[0;34m(\u001b[0m\u001b[0msorted_ci\u001b[0m\u001b[0;34m,\u001b[0m \u001b[0myvals\u001b[0m\u001b[0;34m)\u001b[0m\u001b[0;34m\u001b[0m\u001b[0;34m\u001b[0m\u001b[0m\n\u001b[0m\u001b[1;32m     16\u001b[0m \u001b[0;31m# Add labels\u001b[0m\u001b[0;34m\u001b[0m\u001b[0;34m\u001b[0m\u001b[0;34m\u001b[0m\u001b[0m\n\u001b[1;32m     17\u001b[0m \u001b[0mplt\u001b[0m\u001b[0;34m.\u001b[0m\u001b[0mylabel\u001b[0m\u001b[0;34m(\u001b[0m\u001b[0;34m\"CDF\"\u001b[0m\u001b[0;34m)\u001b[0m\u001b[0;34m\u001b[0m\u001b[0;34m\u001b[0m\u001b[0m\n",
      "\u001b[0;31mNameError\u001b[0m: name 'plt' is not defined"
     ]
    }
   ],
   "source": [
    "import networkx as nx\n",
    "import matplotlib\n",
    "import numpy as np\n",
    "# Create a random network\n",
    "G=nx.erdos_renyi_graph(100, 0.25)\n",
    "# Create a CDF of C_i\n",
    "ci_list=[]\n",
    "ci_dict=nx.clustering(G)\n",
    "for node in ci_dict:\n",
    "    ci_list.append(float(ci_dict[node]))\n",
    "sorted_ci=np.sort(ci_list)\n",
    "# Implementation of CDF\n",
    "yvals=np.arange(len(sorted_ci))/float(len(sorted_ci)-1)\n",
    "# Plot the data\n",
    "plt.plot(sorted_ci, yvals)\n",
    "# Add labels\n",
    "plt.ylabel(\"CDF\")\n",
    "plt.xlabel('$C_i$')\n",
    "plt.show()\n",
    "\n",
    "from statistics import mean \n",
    "# Create a C(k) graph\n",
    "# There are some pre-defined, real-world networks\n",
    "# that are accessible via the NetworkX API\n",
    "G = nx.erdos_renyi_graph(10000, p=0.01)\n",
    "ci_list=[]\n",
    "ci_dict=nx.clustering(G)\n",
    "deg_dict={}\n",
    "# For all nodes, get the clustering coefficient and degree\n",
    "for node in ci_dict:\n",
    "    ci=ci_dict[node]\n",
    "    d=nx.degree(G, nbunch=node)\n",
    "    if d not in deg_dict:\n",
    "        deg_dict[d]=[]\n",
    "    deg_dict[d].append(ci)\n",
    "# Get the average clustering coefficient for each degree value\n",
    "yvals=[]\n",
    "xvals=[]\n",
    "for d in deg_dict:\n",
    "    yvals.append(mean(deg_dict[d]))\n",
    "    xvals.append(d)\n",
    "fig=plt.figure()\n",
    "# Plot the points as a scatter plot\n",
    "ax=fig.add_axes([0,0,1,1])\n",
    "ax.scatter(xvals, yvals, color='r')\n",
    "# Add labels\n",
    "plt.title('Relationship between $C$ and $k$')\n",
    "plt.ylabel(\"$C(k)$\")\n",
    "plt.xlabel('$k$')\n",
    "plt.show()\n"
   ]
  },
  {
   "cell_type": "code",
   "execution_count": null,
   "metadata": {},
   "outputs": [],
   "source": []
  }
 ],
 "metadata": {
  "kernelspec": {
   "display_name": "Python 3",
   "language": "python",
   "name": "python3"
  },
  "language_info": {
   "codemirror_mode": {
    "name": "ipython",
    "version": 3
   },
   "file_extension": ".py",
   "mimetype": "text/x-python",
   "name": "python",
   "nbconvert_exporter": "python",
   "pygments_lexer": "ipython3",
   "version": "3.8.1"
  }
 },
 "nbformat": 4,
 "nbformat_minor": 4
}
