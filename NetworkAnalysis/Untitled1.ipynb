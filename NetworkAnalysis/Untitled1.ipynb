{
 "cells": [
  {
   "cell_type": "code",
   "execution_count": 15,
   "metadata": {},
   "outputs": [
    {
     "name": "stdout",
     "output_type": "stream",
     "text": [
      "0.8125\n",
      "{'A': 2, 'B': 2, 'C': 1, 'D': 1, 'E': 3, 'F': 3, 'G': 3, 'H': 3}\n",
      "{'A': 0.6666666666666666, 'B': 0.3333333333333333, 'C': 1.0, 'D': 1.0, 'E': 0.5, 'F': 1.0, 'G': 1.0, 'H': 1.0}\n"
     ]
    },
    {
     "data": {
      "image/png": "[encoded data removed]",
      "text/plain": [
       "<Figure size 432x288 with 1 Axes>"
      ]
     },
     "metadata": {},
     "output_type": "display_data"
    }
   ],
   "source": [
    "import networkx as nx\n",
    "import matplotlib.pyplot as plt\n",
    "\n",
    "G = nx.Graph()\n",
    "\n",
    "G.add_node('A')\n",
    "G.add_node('B')\n",
    "G.add_node('C')\n",
    "G.add_node('D')\n",
    "G.add_node('E')\n",
    "G.add_node('F')\n",
    "G.add_node('G')\n",
    "G.add_node('H')\n",
    "\n",
    "G.add_edge(\"C\",\"A\")\n",
    "G.add_edge(\"C\",\"B\")\n",
    "G.add_edge(\"A\",\"B\")\n",
    "G.add_edge(\"A\",\"D\")\n",
    "G.add_edge(\"B\",\"E\")\n",
    "G.add_edge(\"B\",\"D\")\n",
    "G.add_edge(\"E\",\"H\")\n",
    "G.add_edge(\"E\",\"G\")\n",
    "G.add_edge(\"E\",\"F\")\n",
    "G.add_edge(\"H\",\"F\")\n",
    "G.add_edge(\"H\",\"G\")\n",
    "G.add_edge(\"G\",\"F\")\n",
    "\n",
    "\n",
    "plt.subplot(121)\n",
    "nx.draw(G, with_labels=True, font_weight='bold')\n",
    "plt.show\n",
    "print(nx.average_clustering(G))\n",
    "print(nx.triangles(G))\n",
    "print(nx.clustering(G))\n",
    "\n",
    "\n"
   ]
  },
  {
   "cell_type": "code",
   "execution_count": null,
   "metadata": {},
   "outputs": [],
   "source": []
  }
 ],
 "metadata": {
  "kernelspec": {
   "display_name": "Python 3",
   "language": "python",
   "name": "python3"
  },
  "language_info": {
   "codemirror_mode": {
    "name": "ipython",
    "version": 3
   },
   "file_extension": ".py",
   "mimetype": "text/x-python",
   "name": "python",
   "nbconvert_exporter": "python",
   "pygments_lexer": "ipython3",
   "version": "3.8.1"
  }
 },
 "nbformat": 4,
 "nbformat_minor": 4
}
